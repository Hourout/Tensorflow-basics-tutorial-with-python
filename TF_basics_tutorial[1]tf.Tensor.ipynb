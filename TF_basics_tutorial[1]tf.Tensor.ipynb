{
 "cells": [
  {
   "cell_type": "code",
   "execution_count": 1,
   "metadata": {
    "collapsed": true
   },
   "outputs": [],
   "source": [
    "import tensorflow as tf\n",
    "import numpy as np"
   ]
  },
  {
   "cell_type": "code",
   "execution_count": 2,
   "metadata": {
    "collapsed": false
   },
   "outputs": [
    {
     "data": {
      "text/plain": [
       "array([[[ 0.46536652,  0.1165438 ,  0.98693059,  0.79871224],\n",
       "        [ 0.65280645,  0.94166748,  0.67146306,  0.67077273],\n",
       "        [ 0.30557007,  0.22010413,  0.79170203,  0.95931051]],\n",
       "\n",
       "       [[ 0.55334763,  0.81374374,  0.73352271,  0.17653765],\n",
       "        [ 0.29755049,  0.60771774,  0.70264042,  0.94040975],\n",
       "        [ 0.23473885,  0.84891302,  0.91524429,  0.00734637]]])"
      ]
     },
     "execution_count": 2,
     "metadata": {},
     "output_type": "execute_result"
    }
   ],
   "source": [
    "np.random.rand(2,3,4)"
   ]
  },
  {
   "cell_type": "code",
   "execution_count": 3,
   "metadata": {
    "collapsed": true
   },
   "outputs": [],
   "source": [
    "data = tf.constant(np.random.rand(2,3,4).astype(np.float32), name='ok')"
   ]
  },
  {
   "cell_type": "code",
   "execution_count": 4,
   "metadata": {
    "collapsed": false
   },
   "outputs": [
    {
     "data": {
      "text/plain": [
       "tf.float32"
      ]
     },
     "execution_count": 4,
     "metadata": {},
     "output_type": "execute_result"
    }
   ],
   "source": [
    "data.dtype"
   ]
  },
  {
   "cell_type": "code",
   "execution_count": 5,
   "metadata": {
    "collapsed": false
   },
   "outputs": [
    {
     "data": {
      "text/plain": [
       "'ok:0'"
      ]
     },
     "execution_count": 5,
     "metadata": {},
     "output_type": "execute_result"
    }
   ],
   "source": [
    "data.name"
   ]
  },
  {
   "cell_type": "code",
   "execution_count": 6,
   "metadata": {
    "collapsed": false
   },
   "outputs": [
    {
     "data": {
      "text/plain": [
       "0"
      ]
     },
     "execution_count": 6,
     "metadata": {},
     "output_type": "execute_result"
    }
   ],
   "source": [
    "data.value_index"
   ]
  },
  {
   "cell_type": "code",
   "execution_count": 7,
   "metadata": {
    "collapsed": false
   },
   "outputs": [
    {
     "data": {
      "text/plain": [
       "<tensorflow.python.framework.ops.Graph at 0x2aaac150710>"
      ]
     },
     "execution_count": 7,
     "metadata": {},
     "output_type": "execute_result"
    }
   ],
   "source": [
    "data.graph"
   ]
  },
  {
   "cell_type": "code",
   "execution_count": 8,
   "metadata": {
    "collapsed": false
   },
   "outputs": [
    {
     "data": {
      "text/plain": [
       "<tensorflow.python.framework.ops.Operation at 0x2aaac150470>"
      ]
     },
     "execution_count": 8,
     "metadata": {},
     "output_type": "execute_result"
    }
   ],
   "source": [
    "data.op"
   ]
  },
  {
   "cell_type": "code",
   "execution_count": 9,
   "metadata": {
    "collapsed": false
   },
   "outputs": [
    {
     "data": {
      "text/plain": [
       "<bound method Tensor.consumers of <tf.Tensor 'ok:0' shape=(2, 3, 4) dtype=float32>>"
      ]
     },
     "execution_count": 9,
     "metadata": {},
     "output_type": "execute_result"
    }
   ],
   "source": [
    "data.consumers"
   ]
  },
  {
   "cell_type": "code",
   "execution_count": 10,
   "metadata": {
    "collapsed": false
   },
   "outputs": [
    {
     "data": {
      "text/plain": [
       "[]"
      ]
     },
     "execution_count": 10,
     "metadata": {},
     "output_type": "execute_result"
    }
   ],
   "source": [
    "data.consumers()"
   ]
  },
  {
   "cell_type": "code",
   "execution_count": 11,
   "metadata": {
    "collapsed": false
   },
   "outputs": [
    {
     "data": {
      "text/plain": [
       "<bound method Tensor.eval of <tf.Tensor 'ok:0' shape=(2, 3, 4) dtype=float32>>"
      ]
     },
     "execution_count": 11,
     "metadata": {},
     "output_type": "execute_result"
    }
   ],
   "source": [
    "data.eval"
   ]
  },
  {
   "cell_type": "code",
   "execution_count": 12,
   "metadata": {
    "collapsed": false
   },
   "outputs": [
    {
     "name": "stdout",
     "output_type": "stream",
     "text": [
      "(2, 3)\n",
      "(4, 2)\n",
      "(3, 4)\n"
     ]
    }
   ],
   "source": [
    "c = tf.constant([[1.0, 2.0, 3.0], [4.0, 5.0, 6.0]])\n",
    "d = tf.constant([[1.0, 0.0], [0.0, 1.0], [1.0, 0.0], [0.0, 1.0]])\n",
    "e = tf.matmul(c, d, transpose_a=True, transpose_b=True)\n",
    "print(c.get_shape())\n",
    "print(d.get_shape())\n",
    "print(e.get_shape())"
   ]
  },
  {
   "cell_type": "code",
   "execution_count": 13,
   "metadata": {
    "collapsed": false,
    "scrolled": true
   },
   "outputs": [
    {
     "name": "stdout",
     "output_type": "stream",
     "text": [
      "f\n",
      " [[ 1. -2. -3.]\n",
      " [-4.  5. -6.]]\n",
      "abs f\n",
      " [[ 1.  2.  3.]\n",
      " [ 4.  5.  6.]]\n",
      "or\n",
      " [[ 1.  2.  3.]\n",
      " [ 4.  5.  6.]]\n"
     ]
    }
   ],
   "source": [
    "f = tf.constant([[1.0, -2.0, -3.0], [-4.0, 5.0, -6.0]])\n",
    "with tf.Session() as sess:\n",
    "    print('f\\n', sess.run(f))\n",
    "    print('abs f\\n', sess.run(tf.Tensor.__abs__(f)))\n",
    "    print('or\\n', sess.run(f.__abs__()))"
   ]
  },
  {
   "cell_type": "code",
   "execution_count": 14,
   "metadata": {
    "collapsed": false
   },
   "outputs": [
    {
     "name": "stdout",
     "output_type": "stream",
     "text": [
      "f:\n",
      " [[ 1. -2. -3.]\n",
      " [-4.  5. -6.]]\n",
      "g:\n",
      " [[ 1.5  2.5  3.5]\n",
      " [ 4.5  5.5  6.5]]\n",
      "f add f:\n",
      " [[  2.  -4.  -6.]\n",
      " [ -8.  10. -12.]]\n",
      "f add f:\n",
      " [[  2.  -4.  -6.]\n",
      " [ -8.  10. -12.]]\n",
      "f add g:\n",
      " [[  2.5   0.5   0.5]\n",
      " [  0.5  10.5   0.5]]\n",
      "f radd f:\n",
      " [[  2.  -4.  -6.]\n",
      " [ -8.  10. -12.]]\n",
      "f radd f:\n",
      " [[  2.  -4.  -6.]\n",
      " [ -8.  10. -12.]]\n",
      "f radd g:\n",
      " [[  2.5   0.5   0.5]\n",
      " [  0.5  10.5   0.5]]\n"
     ]
    }
   ],
   "source": [
    "g = tf.Tensor.__abs__(f) + 0.5\n",
    "with tf.Session() as sess:\n",
    "    print('f:\\n', sess.run(f))\n",
    "    print('g:\\n', sess.run(g))\n",
    "    print('f add f:\\n', sess.run(f.__add__(f)))\n",
    "    print('f add f:\\n', sess.run(tf.Tensor.__add__(f, f)))\n",
    "    print('f add g:\\n', sess.run(tf.Tensor.__add__(f, g)))\n",
    "    print('f radd f:\\n', sess.run(f.__radd__(f)))\n",
    "    print('f radd f:\\n', sess.run(tf.Tensor.__radd__(f, f)))\n",
    "    print('f radd g:\\n', sess.run(tf.Tensor.__radd__(f, g)))"
   ]
  },
  {
   "cell_type": "code",
   "execution_count": 15,
   "metadata": {
    "collapsed": false
   },
   "outputs": [
    {
     "name": "stdout",
     "output_type": "stream",
     "text": [
      "h:\n",
      " [[False  True False]\n",
      " [ True False False]]\n",
      "i:\n",
      " [[ True  True  True]\n",
      " [ True  True  True]]\n",
      "h and h:\n",
      " [[False  True False]\n",
      " [ True False False]]\n",
      "h and h:\n",
      " [[False  True False]\n",
      " [ True False False]]\n",
      "h and i:\n",
      " [[False  True False]\n",
      " [ True False False]]\n",
      "h radd h:\n",
      " [[False  True False]\n",
      " [ True False False]]\n",
      "h radd h:\n",
      " [[False  True False]\n",
      " [ True False False]]\n",
      "h radd i:\n",
      " [[False  True False]\n",
      " [ True False False]]\n"
     ]
    }
   ],
   "source": [
    "h = tf.cast(tf.constant([[0., -2.0, 0.], [-4.0, 0., 0.]]), tf.bool)\n",
    "i = tf.cast(tf.Tensor.__add__(f, g), tf.bool)\n",
    "with tf.Session() as sess:\n",
    "    print('h:\\n', sess.run(h))\n",
    "    print('i:\\n', sess.run(i))    \n",
    "    print('h and h:\\n', sess.run(h.__and__(h)))\n",
    "    print('h and h:\\n', sess.run(tf.Tensor.__and__(h, h)))\n",
    "    print('h and i:\\n', sess.run(tf.Tensor.__and__(h, i)))\n",
    "    print('h radd h:\\n', sess.run(h.__rand__(h)))\n",
    "    print('h radd h:\\n', sess.run(tf.Tensor.__rand__(h, h)))\n",
    "    print('h radd i:\\n', sess.run(tf.Tensor.__rand__(h, i)))"
   ]
  },
  {
   "cell_type": "code",
   "execution_count": 16,
   "metadata": {
    "collapsed": false
   },
   "outputs": [
    {
     "name": "stdout",
     "output_type": "stream",
     "text": [
      "f:\n",
      " [[ 1. -2. -3.]\n",
      " [-4.  5. -6.]]\n",
      "g:\n",
      " [[ 1.5  2.5  3.5]\n",
      " [ 4.5  5.5  6.5]]\n",
      "f div f:\n",
      " [[ 1.  1.  1.]\n",
      " [ 1.  1.  1.]]\n",
      "f div f:\n",
      " [[ 1.  1.  1.]\n",
      " [ 1.  1.  1.]]\n",
      "f div g:\n",
      " [[ 0.66666669 -0.80000001 -0.85714287]\n",
      " [-0.8888889   0.90909094 -0.92307693]]\n",
      "f rdiv f:\n",
      " [[ 1.  1.  1.]\n",
      " [ 1.  1.  1.]]\n",
      "f rdiv f:\n",
      " [[ 1.  1.  1.]\n",
      " [ 1.  1.  1.]]\n",
      "f rdiv g:\n",
      " [[ 1.5        -1.25       -1.16666663]\n",
      " [-1.125       1.10000002 -1.08333337]]\n"
     ]
    }
   ],
   "source": [
    "with tf.Session() as sess:\n",
    "    print('f:\\n', sess.run(f))\n",
    "    print('g:\\n', sess.run(g))\n",
    "    print('f div f:\\n', sess.run(f.__div__(f)))\n",
    "    print('f div f:\\n', sess.run(tf.Tensor.__div__(f, f)))\n",
    "    print('f div g:\\n', sess.run(tf.Tensor.__div__(f, g)))\n",
    "    print('f rdiv f:\\n', sess.run(f.__rdiv__(f)))\n",
    "    print('f rdiv f:\\n', sess.run(tf.Tensor.__rdiv__(f, f)))\n",
    "    print('f rdiv g:\\n', sess.run(tf.Tensor.__rdiv__(f, g)))"
   ]
  },
  {
   "cell_type": "code",
   "execution_count": 17,
   "metadata": {
    "collapsed": false
   },
   "outputs": [
    {
     "name": "stdout",
     "output_type": "stream",
     "text": [
      "f:\n",
      " [[ 1. -2. -3.]\n",
      " [-4.  5. -6.]]\n",
      "g:\n",
      " [[ 1.5  2.5  3.5]\n",
      " [ 4.5  5.5  6.5]]\n",
      "f floordiv f:\n",
      " [[ 1.  1.  1.]\n",
      " [ 1.  1.  1.]]\n",
      "f floordiv f:\n",
      " [[ 1.  1.  1.]\n",
      " [ 1.  1.  1.]]\n",
      "f floordiv g:\n",
      " [[ 0. -1. -1.]\n",
      " [-1.  0. -1.]]\n",
      "f rfloordiv f:\n",
      " [[ 1.  1.  1.]\n",
      " [ 1.  1.  1.]]\n",
      "f rfloordiv f:\n",
      " [[ 1.  1.  1.]\n",
      " [ 1.  1.  1.]]\n",
      "f rfloordiv g:\n",
      " [[ 1. -2. -2.]\n",
      " [-2.  1. -2.]]\n"
     ]
    }
   ],
   "source": [
    "with tf.Session() as sess:\n",
    "    print('f:\\n', sess.run(f))\n",
    "    print('g:\\n', sess.run(g))\n",
    "    print('f floordiv f:\\n', sess.run(f.__floordiv__(f)))\n",
    "    print('f floordiv f:\\n', sess.run(tf.Tensor.__floordiv__(f, f)))\n",
    "    print('f floordiv g:\\n', sess.run(tf.Tensor.__floordiv__(f, g)))\n",
    "    print('f rfloordiv f:\\n', sess.run(f.__rfloordiv__(f)))\n",
    "    print('f rfloordiv f:\\n', sess.run(tf.Tensor.__rfloordiv__(f, f)))\n",
    "    print('f rfloordiv g:\\n', sess.run(tf.Tensor.__rfloordiv__(f, g)))"
   ]
  },
  {
   "cell_type": "code",
   "execution_count": 18,
   "metadata": {
    "collapsed": false
   },
   "outputs": [
    {
     "name": "stdout",
     "output_type": "stream",
     "text": [
      "f:\n",
      " [[ 1. -2. -3.]\n",
      " [-4.  5. -6.]]\n",
      "g:\n",
      " [[ 1.5  2.5  3.5]\n",
      " [ 4.5  5.5  6.5]]\n",
      "f>=f:\n",
      " [[ True  True  True]\n",
      " [ True  True  True]]\n",
      "f>=f:\n",
      " [[ True  True  True]\n",
      " [ True  True  True]]\n",
      "f>=g:\n",
      " [[False False False]\n",
      " [False False False]]\n"
     ]
    }
   ],
   "source": [
    "with tf.Session() as sess:\n",
    "    print('f:\\n', sess.run(f))\n",
    "    print('g:\\n', sess.run(g))\n",
    "    print('f>=f:\\n', sess.run(f.__ge__(f)))\n",
    "    print('f>=f:\\n', sess.run(tf.Tensor.__ge__(f, f)))\n",
    "    print('f>=g:\\n', sess.run(tf.Tensor.__ge__(f, g)))"
   ]
  },
  {
   "cell_type": "code",
   "execution_count": 19,
   "metadata": {
    "collapsed": false
   },
   "outputs": [
    {
     "name": "stdout",
     "output_type": "stream",
     "text": [
      "f:\n",
      " [[ 1. -2. -3.]\n",
      " [-4.  5. -6.]]\n",
      "g:\n",
      " [[ 1.5  2.5  3.5]\n",
      " [ 4.5  5.5  6.5]]\n",
      "[[ True  True  True]\n",
      " [ True  True  True]]\n"
     ]
    }
   ],
   "source": [
    "with tf.Session() as sess:\n",
    "    print('f:\\n', sess.run(f))\n",
    "    print('g:\\n', sess.run(g))\n",
    "    print(sess.run(tf.Tensor.__invert__(tf.Tensor.__ge__(f, g))))"
   ]
  },
  {
   "cell_type": "code",
   "execution_count": 20,
   "metadata": {
    "collapsed": false
   },
   "outputs": [
    {
     "name": "stdout",
     "output_type": "stream",
     "text": [
      "f:\n",
      " [[ 1. -2. -3.]\n",
      " [-4.  5. -6.]]\n",
      "g:\n",
      " [[ 1.5  2.5  3.5]\n",
      " [ 4.5  5.5  6.5]]\n",
      "f<=f:\n",
      " [[ True  True  True]\n",
      " [ True  True  True]]\n",
      "f<=f:\n",
      " [[ True  True  True]\n",
      " [ True  True  True]]\n",
      "f<=g:\n",
      " [[ True  True  True]\n",
      " [ True  True  True]]\n"
     ]
    }
   ],
   "source": [
    "with tf.Session() as sess:\n",
    "    print('f:\\n', sess.run(f))\n",
    "    print('g:\\n', sess.run(g))\n",
    "    print('f<=f:\\n', sess.run(f.__le__(f)))\n",
    "    print('f<=f:\\n', sess.run(f.__le__(f)))\n",
    "    print('f<=g:\\n', sess.run(tf.Tensor.__le__(f, g)))"
   ]
  },
  {
   "cell_type": "code",
   "execution_count": 21,
   "metadata": {
    "collapsed": false
   },
   "outputs": [
    {
     "name": "stdout",
     "output_type": "stream",
     "text": [
      "f:\n",
      " [[ 1. -2. -3.]\n",
      " [-4.  5. -6.]]\n",
      "g:\n",
      " [[ 1.5  2.5  3.5]\n",
      " [ 4.5  5.5  6.5]]\n",
      "f<f:\n",
      " [[False False False]\n",
      " [False False False]]\n",
      "f<f:\n",
      " [[False False False]\n",
      " [False False False]]\n",
      "f<g:\n",
      " [[ True  True  True]\n",
      " [ True  True  True]]\n"
     ]
    }
   ],
   "source": [
    "with tf.Session() as sess:\n",
    "    print('f:\\n', sess.run(f))\n",
    "    print('g:\\n', sess.run(g))\n",
    "    print('f<f:\\n', sess.run(f.__lt__(f)))\n",
    "    print('f<f:\\n', sess.run(tf.Tensor.__lt__(f, f)))\n",
    "    print('f<g:\\n', sess.run(tf.Tensor.__lt__(f, g)))"
   ]
  },
  {
   "cell_type": "code",
   "execution_count": 22,
   "metadata": {
    "collapsed": false
   },
   "outputs": [
    {
     "name": "stdout",
     "output_type": "stream",
     "text": [
      "f:\n",
      " [[ 1. -2. -3.]\n",
      " [-4.  5. -6.]]\n",
      "g:\n",
      " [[ 1.5  2.5  3.5]\n",
      " [ 4.5  5.5  6.5]]\n",
      "f mod f:\n",
      " [[ 0. -0. -0.]\n",
      " [-0.  0. -0.]]\n",
      "f mod f:\n",
      " [[ 0. -0. -0.]\n",
      " [-0.  0. -0.]]\n",
      "f mod g:\n",
      " [[ 1. -2. -3.]\n",
      " [-4.  5. -6.]]\n",
      "f rmod f:\n",
      " [[ 0. -0. -0.]\n",
      " [-0.  0. -0.]]\n",
      "f rmod f:\n",
      " [[ 0. -0. -0.]\n",
      " [-0.  0. -0.]]\n",
      "f rmod g:\n",
      " [[ 0.5  0.5  0.5]\n",
      " [ 0.5  0.5  0.5]]\n"
     ]
    }
   ],
   "source": [
    "with tf.Session() as sess:\n",
    "    print('f:\\n', sess.run(f))\n",
    "    print('g:\\n', sess.run(g))\n",
    "    print('f mod f:\\n', sess.run(f.__mod__(f)))\n",
    "    print('f mod f:\\n', sess.run(tf.Tensor.__mod__(f, f)))\n",
    "    print('f mod g:\\n', sess.run(tf.Tensor.__mod__(f, g)))\n",
    "    print('f rmod f:\\n', sess.run(f.__rmod__(f)))\n",
    "    print('f rmod f:\\n', sess.run(tf.Tensor.__rmod__(f, f)))\n",
    "    print('f rmod g:\\n', sess.run(tf.Tensor.__rmod__(f, g)))"
   ]
  },
  {
   "cell_type": "code",
   "execution_count": 23,
   "metadata": {
    "collapsed": false
   },
   "outputs": [
    {
     "name": "stdout",
     "output_type": "stream",
     "text": [
      "f:\n",
      " [[ 1. -2. -3.]\n",
      " [-4.  5. -6.]]\n",
      "g:\n",
      " [[ 1.5  2.5  3.5]\n",
      " [ 4.5  5.5  6.5]]\n",
      "f mul f:\n",
      " [[  1.   4.   9.]\n",
      " [ 16.  25.  36.]]\n",
      "f mul f:\n",
      " [[  1.   4.   9.]\n",
      " [ 16.  25.  36.]]\n",
      "f mul g:\n",
      " [[  1.5  -5.  -10.5]\n",
      " [-18.   27.5 -39. ]]\n",
      "f rmul f:\n",
      " [[  1.   4.   9.]\n",
      " [ 16.  25.  36.]]\n",
      "f rmul f:\n",
      " [[  1.   4.   9.]\n",
      " [ 16.  25.  36.]]\n",
      "f rmul g:\n",
      " [[  1.5  -5.  -10.5]\n",
      " [-18.   27.5 -39. ]]\n"
     ]
    }
   ],
   "source": [
    "with tf.Session() as sess:\n",
    "    print('f:\\n', sess.run(f))\n",
    "    print('g:\\n', sess.run(g))\n",
    "    print('f mul f:\\n', sess.run(f.__mul__(f)))\n",
    "    print('f mul f:\\n', sess.run(tf.Tensor.__mul__(f, f)))\n",
    "    print('f mul g:\\n', sess.run(tf.Tensor.__mul__(f, g)))\n",
    "    print('f rmul f:\\n', sess.run(f.__rmul__(f)))\n",
    "    print('f rmul f:\\n', sess.run(tf.Tensor.__rmul__(f, f)))\n",
    "    print('f rmul g:\\n', sess.run(tf.Tensor.__rmul__(f, g)))"
   ]
  },
  {
   "cell_type": "code",
   "execution_count": 24,
   "metadata": {
    "collapsed": false
   },
   "outputs": [
    {
     "name": "stdout",
     "output_type": "stream",
     "text": [
      "f:\n",
      " [[ 1. -2. -3.]\n",
      " [-4.  5. -6.]]\n",
      "neg f:\n",
      " [[-1.  2.  3.]\n",
      " [ 4. -5.  6.]]\n",
      "neg f:\n",
      " [[-1.  2.  3.]\n",
      " [ 4. -5.  6.]]\n"
     ]
    }
   ],
   "source": [
    "with tf.Session() as sess:\n",
    "    print('f:\\n', sess.run(f))\n",
    "    print('neg f:\\n', sess.run(f.__neg__()))\n",
    "    print('neg f:\\n', sess.run(tf.Tensor.__neg__(f)))"
   ]
  },
  {
   "cell_type": "code",
   "execution_count": 25,
   "metadata": {
    "collapsed": false
   },
   "outputs": [
    {
     "name": "stdout",
     "output_type": "stream",
     "text": [
      "h:\n",
      " [[False  True False]\n",
      " [ True False False]]\n",
      "i:\n",
      " [[ True  True  True]\n",
      " [ True  True  True]]\n",
      "h or h:\n",
      " [[False  True False]\n",
      " [ True False False]]\n",
      "h or h:\n",
      " [[False  True False]\n",
      " [ True False False]]\n",
      "h or i:\n",
      " [[ True  True  True]\n",
      " [ True  True  True]]\n",
      "h ror h:\n",
      " [[False  True False]\n",
      " [ True False False]]\n",
      "h ror h:\n",
      " [[False  True False]\n",
      " [ True False False]]\n",
      "h ror i:\n",
      " [[ True  True  True]\n",
      " [ True  True  True]]\n"
     ]
    }
   ],
   "source": [
    "with tf.Session() as sess:\n",
    "    print('h:\\n', sess.run(h))\n",
    "    print('i:\\n', sess.run(i))    \n",
    "    print('h or h:\\n', sess.run(h.__or__(h)))\n",
    "    print('h or h:\\n', sess.run(tf.Tensor.__or__(h, h)))\n",
    "    print('h or i:\\n', sess.run(tf.Tensor.__or__(h, i)))\n",
    "    print('h ror h:\\n', sess.run(h.__ror__(h)))\n",
    "    print('h ror h:\\n', sess.run(tf.Tensor.__ror__(h, h)))\n",
    "    print('h ror i:\\n', sess.run(tf.Tensor.__ror__(h, i)))"
   ]
  },
  {
   "cell_type": "code",
   "execution_count": 26,
   "metadata": {
    "collapsed": false
   },
   "outputs": [
    {
     "name": "stdout",
     "output_type": "stream",
     "text": [
      "f:\n",
      " [[ 1. -2. -3.]\n",
      " [-4.  5. -6.]]\n",
      "g:\n",
      " [[ 1.5  2.5  3.5]\n",
      " [ 4.5  5.5  6.5]]\n",
      "f pow f:\n",
      " [[  1.00000000e+00   2.50000000e-01  -3.70370373e-02]\n",
      " [  3.90625000e-03   3.12500000e+03   2.14334705e-05]]\n",
      "f pow f:\n",
      " [[  1.00000000e+00   2.50000000e-01  -3.70370373e-02]\n",
      " [  3.90625000e-03   3.12500000e+03   2.14334705e-05]]\n",
      "f pow g:\n",
      " [[  1.00000000e+00              nan              nan]\n",
      " [             nan   6.98771240e+03              nan]]\n",
      "f rpow f:\n",
      " [[  1.00000000e+00   2.50000000e-01  -3.70370373e-02]\n",
      " [  3.90625000e-03   3.12500000e+03   2.14334705e-05]]\n",
      "f rpow f:\n",
      " [[  1.00000000e+00   2.50000000e-01  -3.70370373e-02]\n",
      " [  3.90625000e-03   3.12500000e+03   2.14334705e-05]]\n",
      "f rpow g:\n",
      " [[  1.50000000e+00   1.59999996e-01   2.33236160e-02]\n",
      " [  2.43865256e-03   5.03284375e+03   1.32592777e-05]]\n"
     ]
    }
   ],
   "source": [
    "with tf.Session() as sess:\n",
    "    print('f:\\n', sess.run(f))\n",
    "    print('g:\\n', sess.run(g))\n",
    "    print('f pow f:\\n', sess.run(f.__pow__(f)))\n",
    "    print('f pow f:\\n', sess.run(tf.Tensor.__pow__(f, f)))\n",
    "    print('f pow g:\\n', sess.run(tf.Tensor.__pow__(f, g)))\n",
    "    print('f rpow f:\\n', sess.run(f.__rpow__(f)))\n",
    "    print('f rpow f:\\n', sess.run(tf.Tensor.__rpow__(f, f)))\n",
    "    print('f rpow g:\\n', sess.run(tf.Tensor.__rpow__(f, g)))"
   ]
  },
  {
   "cell_type": "code",
   "execution_count": 27,
   "metadata": {
    "collapsed": false
   },
   "outputs": [
    {
     "name": "stdout",
     "output_type": "stream",
     "text": [
      "f:\n",
      " [[ 1. -2. -3.]\n",
      " [-4.  5. -6.]]\n",
      "g:\n",
      " [[ 1.5  2.5  3.5]\n",
      " [ 4.5  5.5  6.5]]\n",
      "f sub f:\n",
      " [[ 0.  0.  0.]\n",
      " [ 0.  0.  0.]]\n",
      "f sub f:\n",
      " [[ 0.  0.  0.]\n",
      " [ 0.  0.  0.]]\n",
      "f sub g:\n",
      " [[ -0.5  -4.5  -6.5]\n",
      " [ -8.5  -0.5 -12.5]]\n",
      "f rsub f:\n",
      " [[ 0.  0.  0.]\n",
      " [ 0.  0.  0.]]\n",
      "f rsub f:\n",
      " [[ 0.  0.  0.]\n",
      " [ 0.  0.  0.]]\n",
      "f rsub g:\n",
      " [[  0.5   4.5   6.5]\n",
      " [  8.5   0.5  12.5]]\n"
     ]
    }
   ],
   "source": [
    "with tf.Session() as sess:\n",
    "    print('f:\\n', sess.run(f))\n",
    "    print('g:\\n', sess.run(g))\n",
    "    print('f sub f:\\n', sess.run(f.__sub__(f)))\n",
    "    print('f sub f:\\n', sess.run(tf.Tensor.__sub__(f, f)))\n",
    "    print('f sub g:\\n', sess.run(tf.Tensor.__sub__(f, g)))\n",
    "    print('f rsub f:\\n', sess.run(f.__rsub__(f)))\n",
    "    print('f rsub f:\\n', sess.run(tf.Tensor.__rsub__(f, f)))\n",
    "    print('f rsub g:\\n', sess.run(tf.Tensor.__rsub__(f, g)))"
   ]
  },
  {
   "cell_type": "code",
   "execution_count": 28,
   "metadata": {
    "collapsed": false
   },
   "outputs": [
    {
     "name": "stdout",
     "output_type": "stream",
     "text": [
      "f:\n",
      " [[ 1. -2. -3.]\n",
      " [-4.  5. -6.]]\n",
      "g:\n",
      " [[ 1.5  2.5  3.5]\n",
      " [ 4.5  5.5  6.5]]\n",
      "f truediv f:\n",
      " [[ 1.  1.  1.]\n",
      " [ 1.  1.  1.]]\n",
      "f truediv f:\n",
      " [[ 1.  1.  1.]\n",
      " [ 1.  1.  1.]]\n",
      "f truediv g:\n",
      " [[ 0.66666669 -0.80000001 -0.85714287]\n",
      " [-0.8888889   0.90909094 -0.92307693]]\n",
      "f rtruediv f:\n",
      " [[ 1.  1.  1.]\n",
      " [ 1.  1.  1.]]\n",
      "f rtruediv f:\n",
      " [[ 1.  1.  1.]\n",
      " [ 1.  1.  1.]]\n",
      "f rtruediv g:\n",
      " [[ 1.5        -1.25       -1.16666663]\n",
      " [-1.125       1.10000002 -1.08333337]]\n"
     ]
    }
   ],
   "source": [
    "with tf.Session() as sess:\n",
    "    print('f:\\n', sess.run(f))\n",
    "    print('g:\\n', sess.run(g))\n",
    "    print('f truediv f:\\n', sess.run(f.__truediv__(f)))\n",
    "    print('f truediv f:\\n', sess.run(tf.Tensor.__truediv__(f, f)))\n",
    "    print('f truediv g:\\n', sess.run(tf.Tensor.__truediv__(f, g)))\n",
    "    print('f rtruediv f:\\n', sess.run(f.__rtruediv__(f)))\n",
    "    print('f rtruediv f:\\n', sess.run(tf.Tensor.__rtruediv__(f, f)))\n",
    "    print('f rtruediv g:\\n', sess.run(tf.Tensor.__rtruediv__(f, g)))"
   ]
  },
  {
   "cell_type": "code",
   "execution_count": null,
   "metadata": {
    "collapsed": true
   },
   "outputs": [],
   "source": []
  }
 ],
 "metadata": {
  "kernelspec": {
   "display_name": "Python 3",
   "language": "python",
   "name": "python3"
  },
  "language_info": {
   "codemirror_mode": {
    "name": "ipython",
    "version": 3
   },
   "file_extension": ".py",
   "mimetype": "text/x-python",
   "name": "python",
   "nbconvert_exporter": "python",
   "pygments_lexer": "ipython3",
   "version": "3.5.2"
  }
 },
 "nbformat": 4,
 "nbformat_minor": 1
}
